{
 "metadata": {
  "name": "contam_analysis"
 }, 
 "nbformat": 2, 
 "worksheets": [
  {
   "cells": [
    {
     "cell_type": "code", 
     "collapsed": false, 
     "input": [
      "import pandas as pd", 
      "", 
      "meta = pd.read_csv(\"/home/nolson/Documents/CCQM/CCQM_Analysis_taxa_id/ccqm_metadata_rdp_analysis.txt\", \\", 
      "                   names = [\"file\",\"org\",\"method\",\"lab\",\"rep\",\"platform\",\"template\",\"trim\"])", 
      "ecoli_taxa_levels = [\"Proteobacteria\",\"Gammaproteobacteria\",\"Enterobacteriales\",\"Enterobacteriaceae\",\"Escherichia/Shigella\"]", 
      "lmono_taxa_levels = [\"Firmicutes\",\"Bacilli\",\"Bacillales\",\"Listeriaceae\",\"Listeria\"]", 
      "", 
      "taxa_all = pd.DataFrame()", 
      "", 
      "for id_file in meta['file']:", 
      "    print id_file", 
      "    file_name = \"/home/nolson/Documents/CCQM/CCQM_Analysis_taxa_id/\" + id_file", 
      "    taxa_file = pd.read_csv(file_name, sep = \"\\t\", names = [\"Read\",\"taxonomy\",\"confidence\"])", 
      "    taxa_file['file'] = id_file", 
      "    taxa_split = pd.DataFrame(taxa_file.taxonomy.str.split(';').tolist(), \\", 
      "                                   columns = [\"Domain\",\"Phylum\",\"Class\",\"Order\",\"Family\", \"Genus\"])", 
      "    taxa = pd.concat([taxa_file, taxa_split], axis=1)", 
      "    taxa = pd.merge(taxa, meta, on = 'file')", 
      "    ", 
      "    taxonomy = taxa.taxonomy", 
      "    tax = []", 
      "    level = []", 
      "    for i in taxonomy:", 
      "        i_split = i.split(';')", 
      "        level.append(len(i_split))", 
      "        tax.append(i_split[-1])  ", 
      "    taxa['tax'] = tax", 
      "    taxa['level'] = level", 
      "    taxa['id_type'] = \"contam\"", 
      "", 
      "    ", 
      "    if taxa['org'][0] == \"Ecoli\":", 
      "        for i in range(0,5):", 
      "            taxa['id_type'][taxa['tax'] == ecoli_taxa_levels[i]] = \"expected\"", 
      "        group = [taxa.groupby(['Class','level','id_type']), \\", 
      "            taxa.groupby(['Order','level','id_type']), \\", 
      "            taxa.groupby(['Family','level','id_type'])]", 
      "        for i in range(0,3):", 
      "            if (ecoli_taxa_levels[i + 1], i + 4, 'contam') in group[i].groups.keys():", 
      "                taxa['id_type'][group[i].groups[(ecoli_taxa_levels[i + 1], i + 4, 'contam')]] = \"neighbor\"", 
      "    else:", 
      "        for i in range(0,5):", 
      "            taxa['id_type'][taxa['tax'] == lmono_taxa_levels[i]] = \"expected\"", 
      "        group = [taxa.groupby(['Class','level','id_type']), \\", 
      "            taxa.groupby(['Order','level','id_type']), \\", 
      "            taxa.groupby(['Family','level','id_type'])]", 
      "        for i in range(0,3):", 
      "            if (lmono_taxa_levels[i + 1], i + 4, 'contam') in group[i].groups.keys():", 
      "                taxa['id_type'][group[i].groups[(lmono_taxa_levels[i + 1], i + 4, 'contam')]] = \"neighbor\"", 
      "    taxa_all = taxa_all.append(taxa)", 
      "", 
      "taxa_all.to_csv(\"contam.csv\", sep=',', na_rep='NA',header=True)", 
      "'''", 
      "", 
      "", 
      "#identification of near neighbors", 
      "loop through levels", 
      "", 
      "", 
      "for(i in 1:4){", 
      "  contam$id[contam$org == \"Ecoli\" & contam$taxa == i + 1 & contam[,i + 2] == ecoli_taxa[i]] <-\"neighbor\"", 
      "  contam$id[contam$org == \"Lmono\" & contam$taxa == i + 1 & contam[,i + 2] == lmono_taxa[i]] <-\"neighbor\"", 
      "}", 
      "contam$id[contam$id != \"neighbor\"] <- \"contamination\"", 
      "expected$id <- \"expected\"", 
      "", 
      "taxa_all <- rbind(contam, expected)", 
      "taxa_all$dataset <- paste(taxa_all$org, taxa_all$lab, taxa_all$platform, ", 
      "                          paste(\"Rep\",taxa_all$rep, sep = \" \"),sep = \"_\")", 
      "taxa_all$Dataset <- paste(taxa_all$org, taxa_all$lab, taxa_all$platform, ", 
      "                          paste(\"Rep\",taxa_all$rep, sep = \" \"),sep = \"\\n\")", 
      "", 
      "write.csv(taxa_all, \"contamination_processed.csv\")'''"
     ], 
     "language": "python", 
     "outputs": [
      {
       "output_type": "stream", 
       "stream": "stdout", 
       "text": [
        "Ecoli_Sanger_NIST_tax_assignments.txt", 
        "Lmono_Sanger_NIST_tax_assignments.txt", 
        "Ecoli_ION_NIST_tax_assignments.txt", 
        "Lmono_ION_NIST_tax_assignments.txt"
       ]
      }, 
      {
       "output_type": "stream", 
       "stream": "stdout", 
       "text": [
        "", 
        "Ecoli_ION_NMIC_tax_assignments.txt"
       ]
      }, 
      {
       "output_type": "stream", 
       "stream": "stdout", 
       "text": [
        "", 
        "Ecoli_454_NMIA_trim_tax_assignments.txt"
       ]
      }, 
      {
       "output_type": "stream", 
       "stream": "stdout", 
       "text": [
        "", 
        "Lmono_454_NMIA_trim_tax_assignments.txt"
       ]
      }, 
      {
       "output_type": "stream", 
       "stream": "stdout", 
       "text": [
        "", 
        "Ecoli1_1.TCA.454Reads_tax_assignments.txt"
       ]
      }, 
      {
       "output_type": "stream", 
       "stream": "stdout", 
       "text": [
        "", 
        "Lmono1_1.TCA.454Reads_tax_assignments.txt"
       ]
      }, 
      {
       "output_type": "stream", 
       "stream": "stdout", 
       "text": [
        "", 
        "Ecoli2_1.TCA.454Reads_tax_assignments.txt"
       ]
      }, 
      {
       "output_type": "stream", 
       "stream": "stdout", 
       "text": [
        "", 
        "Lmono2_1.TCA.454Reads_tax_assignments.txt"
       ]
      }, 
      {
       "output_type": "stream", 
       "stream": "stdout", 
       "text": [
        "", 
        "Ecoli3_1.TCA.454Reads_tax_assignments.txt"
       ]
      }, 
      {
       "output_type": "stream", 
       "stream": "stdout", 
       "text": [
        "", 
        "Lmono3_1.TCA.454Reads_tax_assignments.txt"
       ]
      }, 
      {
       "output_type": "stream", 
       "stream": "stdout", 
       "text": [
        "", 
        "Ecoli_Sanger_ATCC_ATCC_tax_assignments.txt"
       ]
      }, 
      {
       "output_type": "stream", 
       "stream": "stdout", 
       "text": [
        "", 
        "Lmono_Sanger_ATCC_ATCC_tax_assignments.txt"
       ]
      }, 
      {
       "output_type": "stream", 
       "stream": "stdout", 
       "text": [
        "", 
        "Ecoli_Sanger_ATCC_IRMM_tax_assignments.txt"
       ]
      }, 
      {
       "output_type": "stream", 
       "stream": "stdout", 
       "text": [
        "", 
        "Lmono_Sanger_ATCC_IRMM_tax_assignments.txt"
       ]
      }, 
      {
       "output_type": "stream", 
       "stream": "stdout", 
       "text": [
        "", 
        "Lmono_Sanger_LGC_tax_assignments.txt"
       ]
      }, 
      {
       "output_type": "stream", 
       "stream": "stdout", 
       "text": [
        "", 
        "Ecoli_Sanger_LGC_tax_assignments.txt"
       ]
      }, 
      {
       "output_type": "stream", 
       "stream": "stdout", 
       "text": [
        "", 
        "Ecoli_ION_NIMC_tax_assignments.txt"
       ]
      }, 
      {
       "output_type": "stream", 
       "stream": "stdout", 
       "text": [
        "", 
        "Lmono_ION_NIMC_tax_assignments.txt"
       ]
      }, 
      {
       "output_type": "stream", 
       "stream": "stdout", 
       "text": [
        ""
       ]
      }, 
      {
       "output_type": "pyout", 
       "prompt_number": 67, 
       "text": [
        "'\\n\\n\\n#identification of near neighbors\\nloop through levels\\n\\n\\nfor(i in 1:4){\\n  contam$id[contam$org == \"Ecoli\" & contam$taxa == i + 1 & contam[,i + 2] == ecoli_taxa[i]] <-\"neighbor\"\\n  contam$id[contam$org == \"Lmono\" & contam$taxa == i + 1 & contam[,i + 2] == lmono_taxa[i]] <-\"neighbor\"\\n}\\ncontam$id[contam$id != \"neighbor\"] <- \"contamination\"\\nexpected$id <- \"expected\"\\n\\ntaxa_all <- rbind(contam, expected)\\ntaxa_all$dataset <- paste(taxa_all$org, taxa_all$lab, taxa_all$platform, \\n                          paste(\"Rep\",taxa_all$rep, sep = \" \"),sep = \"_\")\\ntaxa_all$Dataset <- paste(taxa_all$org, taxa_all$lab, taxa_all$platform, \\n                          paste(\"Rep\",taxa_all$rep, sep = \" \"),sep = \"\\n\")\\n\\nwrite.csv(taxa_all, \"contamination_processed.csv\")'"
       ]
      }
     ], 
     "prompt_number": 67
    }
   ]
  }
 ]
}
